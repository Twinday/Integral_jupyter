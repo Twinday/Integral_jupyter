{
 "cells": [
  {
   "cell_type": "markdown",
   "metadata": {},
   "source": [
    "# №7. Вычислить значение определенного интеграла методом средних прямоугольников."
   ]
  },
  {
   "cell_type": "markdown",
   "metadata": {},
   "source": [
    "## Численное интегрирование"
   ]
  },
  {
   "cell_type": "markdown",
   "metadata": {},
   "source": [
    "Рассмотрим способы приближенного вычисления определенного интеграла"
   ]
  },
  {
   "cell_type": "markdown",
   "metadata": {},
   "source": [
    "$$I = \\int_a^{b} f(x)dx,$$"
   ]
  },
  {
   "cell_type": "markdown",
   "metadata": {},
   "source": [
    "основанные на замене интеграла конечной суммой"
   ]
  },
  {
   "cell_type": "markdown",
   "metadata": {},
   "source": [
    "$$I_n = \\sum_{k=0}^n c_k f(x_k),$$"
   ]
  },
  {
   "cell_type": "markdown",
   "metadata": {},
   "source": [
    "где $c_k - $ числовые коэффициенты и $x_k - $ точки отрезка $[a,b], k = 0, 1, ..., n.$ Приближенное равенство"
   ]
  },
  {
   "cell_type": "markdown",
   "metadata": {},
   "source": [
    "$$\\int_a^{b} f(x)dx \\approx \\sum_{k=0}^n c_k f(x_k),$$"
   ]
  },
  {
   "cell_type": "markdown",
   "metadata": {},
   "source": [
    "называется <i>квадратурной формулой</i>, а сумма вида правой части — <i>квадратурной суммой</i>. Точки $x_k$ называются <i>узлами квадратурной формулы</i>, а числа $c_k$ - <i>коэффициентами квадратурной формулы</i>. Разность"
   ]
  },
  {
   "cell_type": "markdown",
   "metadata": {},
   "source": [
    "$$ \\phi_n = \\int_a^{b} f(x)dx - \\sum_{k=0}^n c_k f(x_k)$$"
   ]
  },
  {
   "cell_type": "markdown",
   "metadata": {},
   "source": [
    "называется <i>погрешностью квадратурной формулы</i>. Погрешность зависит как от выбора узлов, так и от выбора коэффициентов."
   ]
  },
  {
   "cell_type": "markdown",
   "metadata": {},
   "source": [
    "Введем на $[a,b]$ равномерную сетку с шагом $h$, т.е. множество точек"
   ]
  },
  {
   "cell_type": "markdown",
   "metadata": {},
   "source": [
    "$$w_h = \\left\\{x_i = a +ih, i = 0, 1, ..., N, hN = b - a\\right\\},$$"
   ]
  },
  {
   "cell_type": "markdown",
   "metadata": {},
   "source": [
    "и представим интеграл $\\int_a^{b} f(x)dx$ в виде суммы интегралов по частичным отрезкам:"
   ]
  },
  {
   "cell_type": "markdown",
   "metadata": {},
   "source": [
    "$$\\int_a^{b} f(x)dx = \\sum_{i=1}^N \\int_{x_{i-1}}^{x_i} f(x)dx.$$"
   ]
  },
  {
   "cell_type": "markdown",
   "metadata": {},
   "source": [
    "Для построения формулы численного интегрирования на всем отрезке $[a,b]$ достаточно построить квадратурную формулу для интеграла"
   ]
  },
  {
   "cell_type": "markdown",
   "metadata": {},
   "source": [
    "$$\\int_{x_{i-1}}^{x_i} f(x)dx$$"
   ]
  },
  {
   "cell_type": "markdown",
   "metadata": {},
   "source": [
    "на частичном отрезке $[x_{i-1}, x_i]$ и воспользоваться свойством $\\int_a^{b} f(x)dx = \\sum_{i=1}^N \\int_{x_{i-1}}^{x_i} f(x)dx.$"
   ]
  },
  {
   "cell_type": "markdown",
   "metadata": {},
   "source": [
    "### А теперь наглядно"
   ]
  },
  {
   "cell_type": "markdown",
   "metadata": {},
   "source": [
    "Как известно значение интеграла $I$ совпадает со значением площади криволинейной трапеции, ограниченной графиком подынтегральной функции $y = f(x)$, осью $x$ и прямыми $x = a$ и $x = b$. На рисунке заштрихована такая площадь."
   ]
  },
  {
   "cell_type": "markdown",
   "metadata": {},
   "source": [
    "<img src=\"https://slemeshevsky.github.io/python-num-pde/term1/build/html/_images/figure_1.png\">\n",
    "Интеграл функции $f(x) = 3x^2e^{x^3}$ как площадь под графиком функции $f(x)$."
   ]
  },
  {
   "cell_type": "markdown",
   "metadata": {},
   "source": [
    "## Метод прямоугольников"
   ]
  },
  {
   "cell_type": "markdown",
   "metadata": {},
   "source": [
    "Заменим интеграл на частичном отрезке выражением $f(x_{i-1/2})$, где $x_{i-1/2} = x - 0.5h$."
   ]
  },
  {
   "cell_type": "markdown",
   "metadata": {},
   "source": [
    "Геометрически такая замена означает, что площадь криволинейной трапеции заменяется площадью прямоугольника. Тогда получим <i>формулу прямоугольников на частичном отрезке</i>"
   ]
  },
  {
   "cell_type": "markdown",
   "metadata": {},
   "source": [
    "$$\\int_{x_{i-1}}^{x_{i+1}} f(x)dx \\approx f(x_{i-1/2}h),$$"
   ]
  },
  {
   "cell_type": "markdown",
   "metadata": {},
   "source": [
    "суммируя которую по $i$ от 1 до $N$, получим <i>составную формулу прямоугольников</i>"
   ]
  },
  {
   "cell_type": "markdown",
   "metadata": {},
   "source": [
    "$$\\int_a^{b} f(x)dx \\approx \\sum_{i=1}^N f(x_{i-1/2})h.$$"
   ]
  },
  {
   "cell_type": "markdown",
   "metadata": {},
   "source": [
    "<img src=\"https://slemeshevsky.github.io/python-num-pde/term1/build/html/_images/figure_3.png\">\n",
    "Приближенное вычисление интеграла как суммы площадей прямоугольников."
   ]
  },
  {
   "cell_type": "markdown",
   "metadata": {},
   "source": [
    "### Реализация"
   ]
  },
  {
   "cell_type": "code",
   "execution_count": 50,
   "metadata": {},
   "outputs": [],
   "source": [
    "def rectangular(f, a, b, n):\n",
    "    \"\"\" \n",
    "    Вычисляет приближенное значение интеграла с помощью формулы прямоугольников\n",
    "    f - подынтегральная функция\n",
    "    a, b - пределы интегрирования\n",
    "    n - количество частичных отрезков\n",
    "    \"\"\"\n",
    "    h = float(b - a)/n\n",
    "    result = f(a+0.5*h)\n",
    "    for i in range(1, n):\n",
    "        result += f(a + 0.5*h + i*h)\n",
    "    result *= h\n",
    "    return result"
   ]
  },
  {
   "cell_type": "markdown",
   "metadata": {},
   "source": [
    "Для погрешности квадратурной формулы прямоугольников справедлива оценка"
   ]
  },
  {
   "cell_type": "markdown",
   "metadata": {},
   "source": [
    "$$|\\phi| \\leq \\frac{b - a}{24}Mh^2,$$"
   ]
  },
  {
   "cell_type": "markdown",
   "metadata": {},
   "source": [
    "где $M = max_{x \\in [a,b]} |f^{\\prime\\prime}(x)|$."
   ]
  },
  {
   "cell_type": "markdown",
   "metadata": {},
   "source": [
    "### Применение"
   ]
  },
  {
   "cell_type": "code",
   "execution_count": 51,
   "metadata": {},
   "outputs": [],
   "source": [
    "import math\n",
    "\n",
    "# задаём функцию\n",
    "def fn(x):\n",
    "    return math.exp(-x**2)"
   ]
  },
  {
   "cell_type": "code",
   "execution_count": 52,
   "metadata": {},
   "outputs": [],
   "source": [
    "# задаём пределы интегрирования и число отрезков разбиения\n",
    "a = 0\n",
    "b = 2\n",
    "n = 100"
   ]
  },
  {
   "cell_type": "code",
   "execution_count": 53,
   "metadata": {},
   "outputs": [],
   "source": [
    "def convert_for_plot(arr_x):\n",
    "    result_y = []\n",
    "    for i in arr_x:\n",
    "        result_y.append(fn(i))\n",
    "    return result_y"
   ]
  },
  {
   "cell_type": "code",
   "execution_count": 54,
   "metadata": {},
   "outputs": [
    {
     "data": {
      "image/png": "[encoded data removed]",
      "text/plain": [
       "<Figure size 432x288 with 1 Axes>"
      ]
     },
     "metadata": {
      "needs_background": "light"
     },
     "output_type": "display_data"
    }
   ],
   "source": [
    "import numpy as np\n",
    "import matplotlib.pyplot as plt\n",
    " \n",
    "plt.ioff()\n",
    "x = np.arange(a, b + 1)\n",
    "y1 = convert_for_plot(x)\n",
    "y2 = 0*x\n",
    "fig, ax = plt.subplots()\n",
    " \n",
    "ax.plot(x, y1)\n",
    "ax.plot(x, y2, 'r')\n",
    "ax.grid(True)\n",
    "\n",
    "plt.show()"
   ]
  },
  {
   "cell_type": "code",
   "execution_count": 55,
   "metadata": {},
   "outputs": [
    {
     "data": {
      "text/plain": [
       "0.8820826116625586"
      ]
     },
     "execution_count": 55,
     "metadata": {},
     "output_type": "execute_result"
    }
   ],
   "source": [
    "# применяем метод прямоугольников\n",
    "rectangular(fn, a, b, n)"
   ]
  },
  {
   "cell_type": "markdown",
   "metadata": {},
   "source": [
    "#### А теперь покажем насколько численное значение интеграла, посчитанное этим методом, зависит от n."
   ]
  },
  {
   "cell_type": "code",
   "execution_count": 56,
   "metadata": {},
   "outputs": [
    {
     "name": "stdout",
     "output_type": "stream",
     "text": [
      "      n        результат\n",
      "      2   0.8842000076332692\n",
      "      4   0.8827889485397279\n",
      "      8   0.8822686991994210\n",
      "     16   0.8821288703366458\n",
      "     32   0.8820933014203766\n",
      "     64   0.8820843709743319\n",
      "    128   0.8820821359746071\n",
      "    256   0.8820815770754198\n",
      "    512   0.8820814373412922\n",
      "   1024   0.8820814024071774\n",
      "   2048   0.8820813936736116\n",
      "   4096   0.8820813914902204\n",
      "   8192   0.8820813909443684\n",
      "  16384   0.8820813908079066\n",
      "  32768   0.8820813907737911\n",
      "  65536   0.8820813907652575\n",
      " 131072   0.8820813907631487\n",
      " 262144   0.8820813907625702\n",
      " 524288   0.8820813907624605\n",
      "1048576   0.8820813907624268\n"
     ]
    }
   ],
   "source": [
    "import math\n",
    "\n",
    "g = lambda x: math.exp(-x**2)\n",
    "a1 = 0; b1 = 2\n",
    "print ('%7s %16s' % ('n', 'результат'))\n",
    "for i in range(1, 21):\n",
    "    n1 = 2**i\n",
    "    r = rectangular(g, a1, b1, n1)\n",
    "    print ('%7d %20.16f' % (n1, r))"
   ]
  },
  {
   "cell_type": "code",
   "execution_count": null,
   "metadata": {},
   "outputs": [],
   "source": []
  }
 ],
 "metadata": {
  "kernelspec": {
   "display_name": "Python 3",
   "language": "python",
   "name": "python3"
  },
  "language_info": {
   "codemirror_mode": {
    "name": "ipython",
    "version": 3
   },
   "file_extension": ".py",
   "mimetype": "text/x-python",
   "name": "python",
   "nbconvert_exporter": "python",
   "pygments_lexer": "ipython3",
   "version": "3.7.3"
  }
 },
 "nbformat": 4,
 "nbformat_minor": 2
}
